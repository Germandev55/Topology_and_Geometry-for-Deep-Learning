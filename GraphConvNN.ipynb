{
  "nbformat": 4,
  "nbformat_minor": 0,
  "metadata": {
    "colab": {
      "name": "GraphConvNN.ipynb",
      "provenance": [],
      "authorship_tag": "ABX9TyMJdXWmTmlR3zIx0toq3IY5",
      "include_colab_link": true
    },
    "kernelspec": {
      "name": "python3",
      "display_name": "Python 3"
    },
    "accelerator": "TPU"
  },
  "cells": [
    {
      "cell_type": "markdown",
      "metadata": {
        "id": "view-in-github",
        "colab_type": "text"
      },
      "source": [
        "<a href=\"https://colab.research.google.com/github/Germandev55/Topology_and_Geometry-for-Deep-Learning/blob/main/GraphConvNN.ipynb\" target=\"_parent\"><img src=\"https://colab.research.google.com/assets/colab-badge.svg\" alt=\"Open In Colab\"/></a>"
      ]
    },
    {
      "cell_type": "code",
      "metadata": {
        "id": "_GrjNrzgj9zh"
      },
      "source": [
        "!pip install torch_geometric\r\n",
        "!pip install -q torch-scatter -f https://pytorch-geometric.com/whl/torch-1.7.0+cu101.html\r\n",
        "!pip install -q torch-sparse -f https://pytorch-geometric.com/whl/torch-1.7.0+cu101.html"
      ],
      "execution_count": null,
      "outputs": []
    },
    {
      "cell_type": "code",
      "metadata": {
        "id": "XzkrQaNkkANB"
      },
      "source": [
        "from torch_geometric.datasets import Planetoid\r\n",
        "import torch\r\n",
        "import torch.nn.functional as F\r\n",
        "from torch_geometric.nn import MessagePassing\r\n",
        "from torch_geometric.utils import add_self_loops, degree\r\n",
        "import networkx as nx\r\n",
        "import numpy as np\r\n",
        "import matplotlib.pyplot as plt"
      ],
      "execution_count": null,
      "outputs": []
    },
    {
      "cell_type": "code",
      "metadata": {
        "colab": {
          "base_uri": "https://localhost:8080/"
        },
        "id": "JlC1adDTl3p7",
        "outputId": "60e3b5a8-406f-4731-f31b-4b0e83256964"
      },
      "source": [
        "dataset = Planetoid(root='dsets/Cora', name='Cora')\r\n",
        "dataset[0]\r\n"
      ],
      "execution_count": null,
      "outputs": [
        {
          "output_type": "stream",
          "text": [
            "Downloading https://github.com/kimiyoung/planetoid/raw/master/data/ind.cora.x\n",
            "Downloading https://github.com/kimiyoung/planetoid/raw/master/data/ind.cora.tx\n",
            "Downloading https://github.com/kimiyoung/planetoid/raw/master/data/ind.cora.allx\n",
            "Downloading https://github.com/kimiyoung/planetoid/raw/master/data/ind.cora.y\n",
            "Downloading https://github.com/kimiyoung/planetoid/raw/master/data/ind.cora.ty\n",
            "Downloading https://github.com/kimiyoung/planetoid/raw/master/data/ind.cora.ally\n",
            "Downloading https://github.com/kimiyoung/planetoid/raw/master/data/ind.cora.graph\n",
            "Downloading https://github.com/kimiyoung/planetoid/raw/master/data/ind.cora.test.index\n",
            "Processing...\n",
            "Done!\n"
          ],
          "name": "stdout"
        },
        {
          "output_type": "execute_result",
          "data": {
            "text/plain": [
              "Data(edge_index=[2, 10556], test_mask=[2708], train_mask=[2708], val_mask=[2708], x=[2708, 1433], y=[2708])"
            ]
          },
          "metadata": {
            "tags": []
          },
          "execution_count": 11
        }
      ]
    },
    {
      "cell_type": "code",
      "metadata": {
        "id": "O4UdmfKH2zJj"
      },
      "source": [
        "class GraphConvolution(MessagePassing):\r\n",
        "    def __init__(self, in_channels, out_channels, bias=True):\r\n",
        "        super(GraphConvolution, self).__init__(aggr='add') # \"Add\" aggregation.\r\n",
        "        self.lin = torch.nn.Linear(in_channels, out_channels, bias=bias)\r\n",
        "\r\n",
        "    def forward(self, x, edge_index):\r\n",
        "        # x has shape [N, in_channels]\r\n",
        "        # edge_index has shape [2, E]\r\n",
        "\r\n",
        "        # Step 1: Add self-loops to the adjacency matrix.\r\n",
        "        edge_index, _ = add_self_loops(edge_index, num_nodes=x.size(0))\r\n",
        "\r\n",
        "        # Step 2: Linearly transform node feature matrix.\r\n",
        "        x = self.lin(x)\r\n",
        "\r\n",
        "        # Step 3: Compute normalization\r\n",
        "        row, col = edge_index\r\n",
        "        deg = degree(row, x.size(0), dtype=x.dtype)\r\n",
        "        deg_inv_sqrt = deg.pow(-0.5)\r\n",
        "        norm = deg_inv_sqrt[row] * deg_inv_sqrt[col]\r\n",
        "\r\n",
        "        # Step 4-6: Start propagating messages.\r\n",
        "        return self.propagate(edge_index, size=(x.size(0), x.size(0)), x=x, norm=norm)\r\n",
        "\r\n",
        "    def message(self, x_j, norm):\r\n",
        "        # x_j has shape [E, out_channels]\r\n",
        "\r\n",
        "        # Step 4: Normalize node features.\r\n",
        "        return norm.view(-1, 1) * x_j\r\n",
        "\r\n",
        "    def update(self, aggr_out):\r\n",
        "        # aggr_out has shape [N, out_channels]\r\n",
        "\r\n",
        "        # Step 6: Return new node embeddings.\r\n",
        "        return aggr_out"
      ],
      "execution_count": null,
      "outputs": []
    },
    {
      "cell_type": "code",
      "metadata": {
        "id": "qst1adS33F7Z"
      },
      "source": [
        "class Net(torch.nn.Module):\r\n",
        "    def __init__(self, nfeat, nhid, nclass, dropout):\r\n",
        "        super(Net, self).__init__()\r\n",
        "        self.conv1 = GraphConvolution(nfeat, nhid)\r\n",
        "        self.conv2 = GraphConvolution(nhid, nclass)\r\n",
        "        self.dropout = dropout\r\n",
        "\r\n",
        "    def forward(self, data):\r\n",
        "        x, edge_index = data.x, data.edge_index\r\n",
        "\r\n",
        "        x = self.conv1(x, edge_index)\r\n",
        "        x = F.relu(x)\r\n",
        "        x = F.dropout(x, self.dropout, training=self.training)\r\n",
        "        x = self.conv2(x, edge_index)\r\n",
        "\r\n",
        "        return F.log_softmax(x, dim=1)"
      ],
      "execution_count": null,
      "outputs": []
    },
    {
      "cell_type": "code",
      "metadata": {
        "id": "UH1vCKdN3H-4"
      },
      "source": [
        "nfeat = dataset.num_node_features\r\n",
        "nhid = 16\r\n",
        "nclass = dataset.num_classes\r\n",
        "dropout = 0.5"
      ],
      "execution_count": null,
      "outputs": []
    },
    {
      "cell_type": "code",
      "metadata": {
        "colab": {
          "base_uri": "https://localhost:8080/"
        },
        "id": "5AtRMGn93KFi",
        "outputId": "2ea315d1-6932-47d8-a65d-8e9b9b61e5c5"
      },
      "source": [
        "print(nfeat, nclass)\r\n"
      ],
      "execution_count": null,
      "outputs": [
        {
          "output_type": "stream",
          "text": [
            "1433 7\n"
          ],
          "name": "stdout"
        }
      ]
    },
    {
      "cell_type": "code",
      "metadata": {
        "colab": {
          "base_uri": "https://localhost:8080/"
        },
        "id": "klgTO0jb3L4I",
        "outputId": "40d32863-9a1e-4814-c0de-e79703ee5972"
      },
      "source": [
        "device = torch.device('cuda' if torch.cuda.is_available() else 'cpu')\r\n",
        "model = Net(nfeat, nhid, nclass, dropout).to(device)\r\n",
        "data = dataset[0].to(device)\r\n",
        "optimizer = torch.optim.Adam(model.parameters(), lr=0.01, weight_decay=5e-4)\r\n",
        "\r\n",
        "model.train()\r\n",
        "for epoch in range(200):\r\n",
        "    optimizer.zero_grad()\r\n",
        "    out = model(data)\r\n",
        "    loss = F.nll_loss(out[data.train_mask], data.y[data.train_mask])\r\n",
        "    loss.backward()\r\n",
        "    optimizer.step()\r\n",
        "    if epoch % 20 == 0:\r\n",
        "      print(loss)"
      ],
      "execution_count": null,
      "outputs": [
        {
          "output_type": "stream",
          "text": [
            "tensor(1.9532, grad_fn=<NllLossBackward>)\n",
            "tensor(0.3134, grad_fn=<NllLossBackward>)\n",
            "tensor(0.0700, grad_fn=<NllLossBackward>)\n",
            "tensor(0.0626, grad_fn=<NllLossBackward>)\n",
            "tensor(0.0529, grad_fn=<NllLossBackward>)\n",
            "tensor(0.0309, grad_fn=<NllLossBackward>)\n",
            "tensor(0.0531, grad_fn=<NllLossBackward>)\n",
            "tensor(0.0340, grad_fn=<NllLossBackward>)\n",
            "tensor(0.0576, grad_fn=<NllLossBackward>)\n",
            "tensor(0.0390, grad_fn=<NllLossBackward>)\n"
          ],
          "name": "stdout"
        }
      ]
    },
    {
      "cell_type": "code",
      "metadata": {
        "colab": {
          "base_uri": "https://localhost:8080/"
        },
        "id": "QizlX8Fr3NM5",
        "outputId": "d1bf92d9-0fca-4281-da8d-38429c16a5bd"
      },
      "source": [
        "model.eval()\r\n",
        "_, pred = model(data).max(dim=1)\r\n",
        "correct = float (pred[data.test_mask].eq(data.y[data.test_mask]).sum().item())\r\n",
        "acc = correct / data.test_mask.sum().item()\r\n",
        "print('Accuracy: {:.4f}'.format(acc))"
      ],
      "execution_count": null,
      "outputs": [
        {
          "output_type": "stream",
          "text": [
            "Accuracy: 0.8110\n"
          ],
          "name": "stdout"
        }
      ]
    },
    {
      "cell_type": "code",
      "metadata": {
        "id": "q42RdWhf4w60"
      },
      "source": [
        "def plot_dataset(dataset):\r\n",
        "    edges_raw = dataset.data.edge_index.numpy()\r\n",
        "    edges = [(x, y) for x, y in zip(edges_raw[0, :], edges_raw[1, :])]\r\n",
        "    labels = dataset.data.y.numpy()\r\n",
        "\r\n",
        "    G = nx.Graph()\r\n",
        "    G.add_nodes_from(list(range(np.max(edges_raw))))\r\n",
        "    G.add_edges_from(edges)\r\n",
        "    plt.subplot(111)\r\n",
        "    options = {\r\n",
        "                'node_size': 30,\r\n",
        "                'width': 0.2,\r\n",
        "    }\r\n",
        "    nx.draw(G, with_labels=False, node_color=labels.tolist(), cmap=plt.cm.tab10, font_weight='bold', **options)\r\n",
        "    plt.show()"
      ],
      "execution_count": null,
      "outputs": []
    },
    {
      "cell_type": "code",
      "metadata": {
        "colab": {
          "base_uri": "https://localhost:8080/",
          "height": 248
        },
        "id": "1IV6qKvF4x9q",
        "outputId": "90e2c696-530c-4f0e-f036-f93e0db478b8"
      },
      "source": [
        "plot_dataset(dataset)"
      ],
      "execution_count": null,
      "outputs": [
        {
          "output_type": "display_data",
          "data": {
            "image/png": "[encoded data removed]",
            "text/plain": [
              "<Figure size 432x288 with 1 Axes>"
            ]
          },
          "metadata": {
            "tags": []
          }
        }
      ]
    }
  ]
}